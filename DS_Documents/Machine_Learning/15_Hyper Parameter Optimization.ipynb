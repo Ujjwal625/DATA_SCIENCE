{
 "cells": [
  {
   "cell_type": "markdown",
   "id": "ffe45a43",
   "metadata": {},
   "source": [
    "https://github.com/krishnaik06/All-Hyperparamter-Optimization/blob/master/Hyper%20Parameter%20Optimization.ipynb\n",
    "    \n",
    "    https://www.youtube.com/watch?v=355u2bDqB7c"
   ]
  },
  {
   "cell_type": "markdown",
   "id": "59db36b3",
   "metadata": {},
   "source": [
    "All Techniques Of Hyper Parameter Optimization\n",
    "\n",
    "\n",
    "Bayesian Optimization -Automate Hyperparameter Tuning (Hyperopt)\n",
    "Sequential Model Based Optimization(Tuning a scikit-learn estimator with skopt)\n",
    "Optuna- Automate Hyperparameter Tuning\n",
    "Genetic Algorithms (TPOT Classifier)"
   ]
  },
  {
   "cell_type": "code",
   "execution_count": 1,
   "id": "07f7aad0",
   "metadata": {},
   "outputs": [],
   "source": [
    "import warnings\n",
    "warnings.filterwarnings('ignore')"
   ]
  },
  {
   "cell_type": "code",
   "execution_count": 2,
   "id": "10bb8ee7",
   "metadata": {},
   "outputs": [
    {
     "data": {
      "text/html": [
       "<div>\n",
       "<style scoped>\n",
       "    .dataframe tbody tr th:only-of-type {\n",
       "        vertical-align: middle;\n",
       "    }\n",
       "\n",
       "    .dataframe tbody tr th {\n",
       "        vertical-align: top;\n",
       "    }\n",
       "\n",
       "    .dataframe thead th {\n",
       "        text-align: right;\n",
       "    }\n",
       "</style>\n",
       "<table border=\"1\" class=\"dataframe\">\n",
       "  <thead>\n",
       "    <tr style=\"text-align: right;\">\n",
       "      <th></th>\n",
       "      <th>Pregnancies</th>\n",
       "      <th>Glucose</th>\n",
       "      <th>BloodPressure</th>\n",
       "      <th>SkinThickness</th>\n",
       "      <th>Insulin</th>\n",
       "      <th>BMI</th>\n",
       "      <th>DiabetesPedigreeFunction</th>\n",
       "      <th>Age</th>\n",
       "      <th>Outcome</th>\n",
       "    </tr>\n",
       "  </thead>\n",
       "  <tbody>\n",
       "    <tr>\n",
       "      <th>0</th>\n",
       "      <td>6</td>\n",
       "      <td>148</td>\n",
       "      <td>72</td>\n",
       "      <td>35</td>\n",
       "      <td>0</td>\n",
       "      <td>33.6</td>\n",
       "      <td>0.627</td>\n",
       "      <td>50</td>\n",
       "      <td>1</td>\n",
       "    </tr>\n",
       "    <tr>\n",
       "      <th>1</th>\n",
       "      <td>1</td>\n",
       "      <td>85</td>\n",
       "      <td>66</td>\n",
       "      <td>29</td>\n",
       "      <td>0</td>\n",
       "      <td>26.6</td>\n",
       "      <td>0.351</td>\n",
       "      <td>31</td>\n",
       "      <td>0</td>\n",
       "    </tr>\n",
       "    <tr>\n",
       "      <th>2</th>\n",
       "      <td>8</td>\n",
       "      <td>183</td>\n",
       "      <td>64</td>\n",
       "      <td>0</td>\n",
       "      <td>0</td>\n",
       "      <td>23.3</td>\n",
       "      <td>0.672</td>\n",
       "      <td>32</td>\n",
       "      <td>1</td>\n",
       "    </tr>\n",
       "    <tr>\n",
       "      <th>3</th>\n",
       "      <td>1</td>\n",
       "      <td>89</td>\n",
       "      <td>66</td>\n",
       "      <td>23</td>\n",
       "      <td>94</td>\n",
       "      <td>28.1</td>\n",
       "      <td>0.167</td>\n",
       "      <td>21</td>\n",
       "      <td>0</td>\n",
       "    </tr>\n",
       "    <tr>\n",
       "      <th>4</th>\n",
       "      <td>0</td>\n",
       "      <td>137</td>\n",
       "      <td>40</td>\n",
       "      <td>35</td>\n",
       "      <td>168</td>\n",
       "      <td>43.1</td>\n",
       "      <td>2.288</td>\n",
       "      <td>33</td>\n",
       "      <td>1</td>\n",
       "    </tr>\n",
       "  </tbody>\n",
       "</table>\n",
       "</div>"
      ],
      "text/plain": [
       "   Pregnancies  Glucose  BloodPressure  SkinThickness  Insulin   BMI  \\\n",
       "0            6      148             72             35        0  33.6   \n",
       "1            1       85             66             29        0  26.6   \n",
       "2            8      183             64              0        0  23.3   \n",
       "3            1       89             66             23       94  28.1   \n",
       "4            0      137             40             35      168  43.1   \n",
       "\n",
       "   DiabetesPedigreeFunction  Age  Outcome  \n",
       "0                     0.627   50        1  \n",
       "1                     0.351   31        0  \n",
       "2                     0.672   32        1  \n",
       "3                     0.167   21        0  \n",
       "4                     2.288   33        1  "
      ]
     },
     "execution_count": 2,
     "metadata": {},
     "output_type": "execute_result"
    }
   ],
   "source": [
    "import pandas as pd\n",
    "df=pd.read_csv('/home/ujjwal/Data_Science/Jupyter_notebook/csv_xlxs_File/diabetes.csv')\n",
    "df.head()"
   ]
  },
  {
   "cell_type": "code",
   "execution_count": 3,
   "id": "e455af03",
   "metadata": {},
   "outputs": [
    {
     "data": {
      "text/html": [
       "<div>\n",
       "<style scoped>\n",
       "    .dataframe tbody tr th:only-of-type {\n",
       "        vertical-align: middle;\n",
       "    }\n",
       "\n",
       "    .dataframe tbody tr th {\n",
       "        vertical-align: top;\n",
       "    }\n",
       "\n",
       "    .dataframe thead th {\n",
       "        text-align: right;\n",
       "    }\n",
       "</style>\n",
       "<table border=\"1\" class=\"dataframe\">\n",
       "  <thead>\n",
       "    <tr style=\"text-align: right;\">\n",
       "      <th></th>\n",
       "      <th>Pregnancies</th>\n",
       "      <th>Glucose</th>\n",
       "      <th>BloodPressure</th>\n",
       "      <th>SkinThickness</th>\n",
       "      <th>Insulin</th>\n",
       "      <th>BMI</th>\n",
       "      <th>DiabetesPedigreeFunction</th>\n",
       "      <th>Age</th>\n",
       "      <th>Outcome</th>\n",
       "    </tr>\n",
       "  </thead>\n",
       "  <tbody>\n",
       "    <tr>\n",
       "      <th>0</th>\n",
       "      <td>6</td>\n",
       "      <td>148.0</td>\n",
       "      <td>72</td>\n",
       "      <td>35</td>\n",
       "      <td>0</td>\n",
       "      <td>33.6</td>\n",
       "      <td>0.627</td>\n",
       "      <td>50</td>\n",
       "      <td>1</td>\n",
       "    </tr>\n",
       "    <tr>\n",
       "      <th>1</th>\n",
       "      <td>1</td>\n",
       "      <td>85.0</td>\n",
       "      <td>66</td>\n",
       "      <td>29</td>\n",
       "      <td>0</td>\n",
       "      <td>26.6</td>\n",
       "      <td>0.351</td>\n",
       "      <td>31</td>\n",
       "      <td>0</td>\n",
       "    </tr>\n",
       "    <tr>\n",
       "      <th>2</th>\n",
       "      <td>8</td>\n",
       "      <td>183.0</td>\n",
       "      <td>64</td>\n",
       "      <td>0</td>\n",
       "      <td>0</td>\n",
       "      <td>23.3</td>\n",
       "      <td>0.672</td>\n",
       "      <td>32</td>\n",
       "      <td>1</td>\n",
       "    </tr>\n",
       "    <tr>\n",
       "      <th>3</th>\n",
       "      <td>1</td>\n",
       "      <td>89.0</td>\n",
       "      <td>66</td>\n",
       "      <td>23</td>\n",
       "      <td>94</td>\n",
       "      <td>28.1</td>\n",
       "      <td>0.167</td>\n",
       "      <td>21</td>\n",
       "      <td>0</td>\n",
       "    </tr>\n",
       "    <tr>\n",
       "      <th>4</th>\n",
       "      <td>0</td>\n",
       "      <td>137.0</td>\n",
       "      <td>40</td>\n",
       "      <td>35</td>\n",
       "      <td>168</td>\n",
       "      <td>43.1</td>\n",
       "      <td>2.288</td>\n",
       "      <td>33</td>\n",
       "      <td>1</td>\n",
       "    </tr>\n",
       "  </tbody>\n",
       "</table>\n",
       "</div>"
      ],
      "text/plain": [
       "   Pregnancies  Glucose  BloodPressure  SkinThickness  Insulin   BMI  \\\n",
       "0            6    148.0             72             35        0  33.6   \n",
       "1            1     85.0             66             29        0  26.6   \n",
       "2            8    183.0             64              0        0  23.3   \n",
       "3            1     89.0             66             23       94  28.1   \n",
       "4            0    137.0             40             35      168  43.1   \n",
       "\n",
       "   DiabetesPedigreeFunction  Age  Outcome  \n",
       "0                     0.627   50        1  \n",
       "1                     0.351   31        0  \n",
       "2                     0.672   32        1  \n",
       "3                     0.167   21        0  \n",
       "4                     2.288   33        1  "
      ]
     },
     "execution_count": 3,
     "metadata": {},
     "output_type": "execute_result"
    }
   ],
   "source": [
    "import numpy as np\n",
    "df['Glucose']=np.where(df['Glucose']==0,df['Glucose'].median(),df['Glucose'])\n",
    "df.head()\n"
   ]
  },
  {
   "cell_type": "code",
   "execution_count": 4,
   "id": "e5bd7a6f",
   "metadata": {},
   "outputs": [],
   "source": [
    "#### Independent And Dependent features\n",
    "X=df.drop('Outcome',axis=1)\n",
    "y=df['Outcome']"
   ]
  },
  {
   "cell_type": "code",
   "execution_count": 5,
   "id": "4b6344dd",
   "metadata": {},
   "outputs": [
    {
     "data": {
      "text/html": [
       "<div>\n",
       "<style scoped>\n",
       "    .dataframe tbody tr th:only-of-type {\n",
       "        vertical-align: middle;\n",
       "    }\n",
       "\n",
       "    .dataframe tbody tr th {\n",
       "        vertical-align: top;\n",
       "    }\n",
       "\n",
       "    .dataframe thead th {\n",
       "        text-align: right;\n",
       "    }\n",
       "</style>\n",
       "<table border=\"1\" class=\"dataframe\">\n",
       "  <thead>\n",
       "    <tr style=\"text-align: right;\">\n",
       "      <th></th>\n",
       "      <th>Pregnancies</th>\n",
       "      <th>Glucose</th>\n",
       "      <th>BloodPressure</th>\n",
       "      <th>SkinThickness</th>\n",
       "      <th>Insulin</th>\n",
       "      <th>BMI</th>\n",
       "      <th>DiabetesPedigreeFunction</th>\n",
       "      <th>Age</th>\n",
       "    </tr>\n",
       "  </thead>\n",
       "  <tbody>\n",
       "    <tr>\n",
       "      <th>0</th>\n",
       "      <td>6</td>\n",
       "      <td>148.0</td>\n",
       "      <td>72</td>\n",
       "      <td>35</td>\n",
       "      <td>0</td>\n",
       "      <td>33.6</td>\n",
       "      <td>0.627</td>\n",
       "      <td>50</td>\n",
       "    </tr>\n",
       "    <tr>\n",
       "      <th>1</th>\n",
       "      <td>1</td>\n",
       "      <td>85.0</td>\n",
       "      <td>66</td>\n",
       "      <td>29</td>\n",
       "      <td>0</td>\n",
       "      <td>26.6</td>\n",
       "      <td>0.351</td>\n",
       "      <td>31</td>\n",
       "    </tr>\n",
       "    <tr>\n",
       "      <th>2</th>\n",
       "      <td>8</td>\n",
       "      <td>183.0</td>\n",
       "      <td>64</td>\n",
       "      <td>0</td>\n",
       "      <td>0</td>\n",
       "      <td>23.3</td>\n",
       "      <td>0.672</td>\n",
       "      <td>32</td>\n",
       "    </tr>\n",
       "    <tr>\n",
       "      <th>3</th>\n",
       "      <td>1</td>\n",
       "      <td>89.0</td>\n",
       "      <td>66</td>\n",
       "      <td>23</td>\n",
       "      <td>94</td>\n",
       "      <td>28.1</td>\n",
       "      <td>0.167</td>\n",
       "      <td>21</td>\n",
       "    </tr>\n",
       "    <tr>\n",
       "      <th>4</th>\n",
       "      <td>0</td>\n",
       "      <td>137.0</td>\n",
       "      <td>40</td>\n",
       "      <td>35</td>\n",
       "      <td>168</td>\n",
       "      <td>43.1</td>\n",
       "      <td>2.288</td>\n",
       "      <td>33</td>\n",
       "    </tr>\n",
       "    <tr>\n",
       "      <th>...</th>\n",
       "      <td>...</td>\n",
       "      <td>...</td>\n",
       "      <td>...</td>\n",
       "      <td>...</td>\n",
       "      <td>...</td>\n",
       "      <td>...</td>\n",
       "      <td>...</td>\n",
       "      <td>...</td>\n",
       "    </tr>\n",
       "    <tr>\n",
       "      <th>763</th>\n",
       "      <td>10</td>\n",
       "      <td>101.0</td>\n",
       "      <td>76</td>\n",
       "      <td>48</td>\n",
       "      <td>180</td>\n",
       "      <td>32.9</td>\n",
       "      <td>0.171</td>\n",
       "      <td>63</td>\n",
       "    </tr>\n",
       "    <tr>\n",
       "      <th>764</th>\n",
       "      <td>2</td>\n",
       "      <td>122.0</td>\n",
       "      <td>70</td>\n",
       "      <td>27</td>\n",
       "      <td>0</td>\n",
       "      <td>36.8</td>\n",
       "      <td>0.340</td>\n",
       "      <td>27</td>\n",
       "    </tr>\n",
       "    <tr>\n",
       "      <th>765</th>\n",
       "      <td>5</td>\n",
       "      <td>121.0</td>\n",
       "      <td>72</td>\n",
       "      <td>23</td>\n",
       "      <td>112</td>\n",
       "      <td>26.2</td>\n",
       "      <td>0.245</td>\n",
       "      <td>30</td>\n",
       "    </tr>\n",
       "    <tr>\n",
       "      <th>766</th>\n",
       "      <td>1</td>\n",
       "      <td>126.0</td>\n",
       "      <td>60</td>\n",
       "      <td>0</td>\n",
       "      <td>0</td>\n",
       "      <td>30.1</td>\n",
       "      <td>0.349</td>\n",
       "      <td>47</td>\n",
       "    </tr>\n",
       "    <tr>\n",
       "      <th>767</th>\n",
       "      <td>1</td>\n",
       "      <td>93.0</td>\n",
       "      <td>70</td>\n",
       "      <td>31</td>\n",
       "      <td>0</td>\n",
       "      <td>30.4</td>\n",
       "      <td>0.315</td>\n",
       "      <td>23</td>\n",
       "    </tr>\n",
       "  </tbody>\n",
       "</table>\n",
       "<p>768 rows × 8 columns</p>\n",
       "</div>"
      ],
      "text/plain": [
       "     Pregnancies  Glucose  BloodPressure  SkinThickness  Insulin   BMI  \\\n",
       "0              6    148.0             72             35        0  33.6   \n",
       "1              1     85.0             66             29        0  26.6   \n",
       "2              8    183.0             64              0        0  23.3   \n",
       "3              1     89.0             66             23       94  28.1   \n",
       "4              0    137.0             40             35      168  43.1   \n",
       "..           ...      ...            ...            ...      ...   ...   \n",
       "763           10    101.0             76             48      180  32.9   \n",
       "764            2    122.0             70             27        0  36.8   \n",
       "765            5    121.0             72             23      112  26.2   \n",
       "766            1    126.0             60              0        0  30.1   \n",
       "767            1     93.0             70             31        0  30.4   \n",
       "\n",
       "     DiabetesPedigreeFunction  Age  \n",
       "0                       0.627   50  \n",
       "1                       0.351   31  \n",
       "2                       0.672   32  \n",
       "3                       0.167   21  \n",
       "4                       2.288   33  \n",
       "..                        ...  ...  \n",
       "763                     0.171   63  \n",
       "764                     0.340   27  \n",
       "765                     0.245   30  \n",
       "766                     0.349   47  \n",
       "767                     0.315   23  \n",
       "\n",
       "[768 rows x 8 columns]"
      ]
     },
     "execution_count": 5,
     "metadata": {},
     "output_type": "execute_result"
    }
   ],
   "source": [
    "X"
   ]
  },
  {
   "cell_type": "code",
   "execution_count": 6,
   "id": "f8b81bdf",
   "metadata": {},
   "outputs": [
    {
     "data": {
      "text/html": [
       "<div>\n",
       "<style scoped>\n",
       "    .dataframe tbody tr th:only-of-type {\n",
       "        vertical-align: middle;\n",
       "    }\n",
       "\n",
       "    .dataframe tbody tr th {\n",
       "        vertical-align: top;\n",
       "    }\n",
       "\n",
       "    .dataframe thead th {\n",
       "        text-align: right;\n",
       "    }\n",
       "</style>\n",
       "<table border=\"1\" class=\"dataframe\">\n",
       "  <thead>\n",
       "    <tr style=\"text-align: right;\">\n",
       "      <th></th>\n",
       "      <th>Pregnancies</th>\n",
       "      <th>Glucose</th>\n",
       "      <th>BloodPressure</th>\n",
       "      <th>SkinThickness</th>\n",
       "      <th>Insulin</th>\n",
       "      <th>BMI</th>\n",
       "      <th>DiabetesPedigreeFunction</th>\n",
       "      <th>Age</th>\n",
       "    </tr>\n",
       "  </thead>\n",
       "  <tbody>\n",
       "    <tr>\n",
       "      <th>0</th>\n",
       "      <td>6</td>\n",
       "      <td>148.0</td>\n",
       "      <td>72</td>\n",
       "      <td>35</td>\n",
       "      <td>0</td>\n",
       "      <td>33.6</td>\n",
       "      <td>0.627</td>\n",
       "      <td>50</td>\n",
       "    </tr>\n",
       "    <tr>\n",
       "      <th>1</th>\n",
       "      <td>1</td>\n",
       "      <td>85.0</td>\n",
       "      <td>66</td>\n",
       "      <td>29</td>\n",
       "      <td>0</td>\n",
       "      <td>26.6</td>\n",
       "      <td>0.351</td>\n",
       "      <td>31</td>\n",
       "    </tr>\n",
       "    <tr>\n",
       "      <th>2</th>\n",
       "      <td>8</td>\n",
       "      <td>183.0</td>\n",
       "      <td>64</td>\n",
       "      <td>0</td>\n",
       "      <td>0</td>\n",
       "      <td>23.3</td>\n",
       "      <td>0.672</td>\n",
       "      <td>32</td>\n",
       "    </tr>\n",
       "    <tr>\n",
       "      <th>3</th>\n",
       "      <td>1</td>\n",
       "      <td>89.0</td>\n",
       "      <td>66</td>\n",
       "      <td>23</td>\n",
       "      <td>94</td>\n",
       "      <td>28.1</td>\n",
       "      <td>0.167</td>\n",
       "      <td>21</td>\n",
       "    </tr>\n",
       "    <tr>\n",
       "      <th>4</th>\n",
       "      <td>0</td>\n",
       "      <td>137.0</td>\n",
       "      <td>40</td>\n",
       "      <td>35</td>\n",
       "      <td>168</td>\n",
       "      <td>43.1</td>\n",
       "      <td>2.288</td>\n",
       "      <td>33</td>\n",
       "    </tr>\n",
       "    <tr>\n",
       "      <th>...</th>\n",
       "      <td>...</td>\n",
       "      <td>...</td>\n",
       "      <td>...</td>\n",
       "      <td>...</td>\n",
       "      <td>...</td>\n",
       "      <td>...</td>\n",
       "      <td>...</td>\n",
       "      <td>...</td>\n",
       "    </tr>\n",
       "    <tr>\n",
       "      <th>763</th>\n",
       "      <td>10</td>\n",
       "      <td>101.0</td>\n",
       "      <td>76</td>\n",
       "      <td>48</td>\n",
       "      <td>180</td>\n",
       "      <td>32.9</td>\n",
       "      <td>0.171</td>\n",
       "      <td>63</td>\n",
       "    </tr>\n",
       "    <tr>\n",
       "      <th>764</th>\n",
       "      <td>2</td>\n",
       "      <td>122.0</td>\n",
       "      <td>70</td>\n",
       "      <td>27</td>\n",
       "      <td>0</td>\n",
       "      <td>36.8</td>\n",
       "      <td>0.340</td>\n",
       "      <td>27</td>\n",
       "    </tr>\n",
       "    <tr>\n",
       "      <th>765</th>\n",
       "      <td>5</td>\n",
       "      <td>121.0</td>\n",
       "      <td>72</td>\n",
       "      <td>23</td>\n",
       "      <td>112</td>\n",
       "      <td>26.2</td>\n",
       "      <td>0.245</td>\n",
       "      <td>30</td>\n",
       "    </tr>\n",
       "    <tr>\n",
       "      <th>766</th>\n",
       "      <td>1</td>\n",
       "      <td>126.0</td>\n",
       "      <td>60</td>\n",
       "      <td>0</td>\n",
       "      <td>0</td>\n",
       "      <td>30.1</td>\n",
       "      <td>0.349</td>\n",
       "      <td>47</td>\n",
       "    </tr>\n",
       "    <tr>\n",
       "      <th>767</th>\n",
       "      <td>1</td>\n",
       "      <td>93.0</td>\n",
       "      <td>70</td>\n",
       "      <td>31</td>\n",
       "      <td>0</td>\n",
       "      <td>30.4</td>\n",
       "      <td>0.315</td>\n",
       "      <td>23</td>\n",
       "    </tr>\n",
       "  </tbody>\n",
       "</table>\n",
       "<p>768 rows × 8 columns</p>\n",
       "</div>"
      ],
      "text/plain": [
       "     Pregnancies  Glucose  BloodPressure  SkinThickness  Insulin   BMI  \\\n",
       "0              6    148.0             72             35        0  33.6   \n",
       "1              1     85.0             66             29        0  26.6   \n",
       "2              8    183.0             64              0        0  23.3   \n",
       "3              1     89.0             66             23       94  28.1   \n",
       "4              0    137.0             40             35      168  43.1   \n",
       "..           ...      ...            ...            ...      ...   ...   \n",
       "763           10    101.0             76             48      180  32.9   \n",
       "764            2    122.0             70             27        0  36.8   \n",
       "765            5    121.0             72             23      112  26.2   \n",
       "766            1    126.0             60              0        0  30.1   \n",
       "767            1     93.0             70             31        0  30.4   \n",
       "\n",
       "     DiabetesPedigreeFunction  Age  \n",
       "0                       0.627   50  \n",
       "1                       0.351   31  \n",
       "2                       0.672   32  \n",
       "3                       0.167   21  \n",
       "4                       2.288   33  \n",
       "..                        ...  ...  \n",
       "763                     0.171   63  \n",
       "764                     0.340   27  \n",
       "765                     0.245   30  \n",
       "766                     0.349   47  \n",
       "767                     0.315   23  \n",
       "\n",
       "[768 rows x 8 columns]"
      ]
     },
     "execution_count": 6,
     "metadata": {},
     "output_type": "execute_result"
    }
   ],
   "source": [
    "pd.DataFrame(X,columns=df.columns[:-1])\n"
   ]
  },
  {
   "cell_type": "code",
   "execution_count": 7,
   "id": "f1173184",
   "metadata": {},
   "outputs": [],
   "source": [
    "#### Train Test Split\n",
    "from sklearn.model_selection import train_test_split\n",
    "X_train,X_test,y_train,y_test=train_test_split(X,y,test_size=0.20,random_state=0)\n"
   ]
  },
  {
   "cell_type": "code",
   "execution_count": 8,
   "id": "ac0c8c97",
   "metadata": {},
   "outputs": [],
   "source": [
    "from sklearn.ensemble import RandomForestClassifier\n",
    "rf_classifier=RandomForestClassifier(n_estimators=10).fit(X_train,y_train)\n",
    "prediction=rf_classifier.predict(X_test)"
   ]
  },
  {
   "cell_type": "code",
   "execution_count": 9,
   "id": "c8456c9a",
   "metadata": {},
   "outputs": [
    {
     "data": {
      "text/plain": [
       "0    500\n",
       "1    268\n",
       "Name: Outcome, dtype: int64"
      ]
     },
     "execution_count": 9,
     "metadata": {},
     "output_type": "execute_result"
    }
   ],
   "source": [
    "y.value_counts()\n"
   ]
  },
  {
   "cell_type": "code",
   "execution_count": 10,
   "id": "fff87af9",
   "metadata": {},
   "outputs": [
    {
     "name": "stdout",
     "output_type": "stream",
     "text": [
      "[[90 17]\n",
      " [23 24]]\n",
      "Accuracy Score 0.7402597402597403\n",
      "Classification report:               precision    recall  f1-score   support\n",
      "\n",
      "           0       0.80      0.84      0.82       107\n",
      "           1       0.59      0.51      0.55        47\n",
      "\n",
      "    accuracy                           0.74       154\n",
      "   macro avg       0.69      0.68      0.68       154\n",
      "weighted avg       0.73      0.74      0.73       154\n",
      "\n"
     ]
    }
   ],
   "source": [
    "from sklearn.metrics import confusion_matrix,classification_report,accuracy_score\n",
    "print(confusion_matrix(y_test,prediction))\n",
    "print(\"Accuracy Score {}\".format(accuracy_score(y_test,prediction)))\n",
    "print(\"Classification report: {}\".format(classification_report(y_test,prediction)))\n"
   ]
  },
  {
   "cell_type": "markdown",
   "id": "e615f1da",
   "metadata": {},
   "source": [
    "The main parameters used by a Random Forest Classifier are:\n",
    "\n",
    "criterion = the function used to evaluate the quality of a split.\n",
    "max_depth = maximum number of levels allowed in each tree.\n",
    "max_features = maximum number of features considered when splitting a node.\n",
    "min_samples_leaf = minimum number of samples which can be stored in a tree leaf.\n",
    "min_samples_split = minimum number of samples necessary in a node to cause node splitting.\n",
    "n_estimators = number of trees in the ensamble."
   ]
  },
  {
   "cell_type": "code",
   "execution_count": null,
   "id": "479f2fae",
   "metadata": {},
   "outputs": [],
   "source": []
  },
  {
   "cell_type": "code",
   "execution_count": null,
   "id": "aa53ec31",
   "metadata": {},
   "outputs": [],
   "source": []
  },
  {
   "cell_type": "code",
   "execution_count": null,
   "id": "9d7ff2c1",
   "metadata": {},
   "outputs": [],
   "source": []
  },
  {
   "cell_type": "code",
   "execution_count": null,
   "id": "aeb2be1d",
   "metadata": {},
   "outputs": [],
   "source": []
  },
  {
   "cell_type": "markdown",
   "id": "014afb3e",
   "metadata": {},
   "source": [
    "Automated Hyperparameter Tuning\n",
    "Automated Hyperparameter Tuning can be done by using techniques such as\n",
    "\n",
    "Bayesian Optimization\n",
    "Evolutionary Algorithms\n",
    "Bayesian Optimization\n",
    "Bayesian optimization uses probability to find the minimum of a function. The final aim is to find the input value to a function which can gives us the lowest possible output value.It usually performs better than random,grid and manual search providing better performance in the testing phase and reduced optimization time. In Hyperopt, Bayesian Optimization can be implemented giving 3 three main parameters to the function fmin.\n",
    "\n",
    "Objective Function = defines the loss function to minimize.\n",
    "Domain Space = defines the range of input values to test (in Bayesian Optimization this space creates a probability distribution for each of the used Hyperparameters).\n",
    "Optimization Algorithm = defines the search algorithm to use to select the best input values to use in each new iteration.\n"
   ]
  },
  {
   "cell_type": "code",
   "execution_count": 11,
   "id": "7886e3b3",
   "metadata": {},
   "outputs": [],
   "source": [
    "from hyperopt import hp,fmin,tpe,STATUS_OK,Trials\n",
    "#here,  fmin,tpe ,STATUS_OK are used for error minimisation"
   ]
  },
  {
   "cell_type": "code",
   "execution_count": 12,
   "id": "ee29464a",
   "metadata": {},
   "outputs": [],
   "source": [
    "space = {'criterion': hp.choice('criterion', ['entropy', 'gini']),\n",
    "        'max_depth': hp.quniform('max_depth', 10, 1200, 15),\n",
    "        'max_features': hp.choice('max_features', ['auto', 'sqrt','log2', None]),\n",
    "        'min_samples_leaf': hp.uniform('min_samples_leaf', 0, 0.5),\n",
    "        'min_samples_split' : hp.uniform ('min_samples_split', 0, 1),\n",
    "        'n_estimators' : hp.choice('n_estimators', [10, 50, 300, 750, 1200,1300,1500])\n",
    "    }\n",
    "#space is just like parameters that we use in gridsearchcv \n",
    "# here choice mean we have to select from given choices\n",
    "# here quniform mean we have to select 15 value from 10 to 1200 , at equal interval\n",
    "# here uniform is used to select from floating value"
   ]
  },
  {
   "cell_type": "code",
   "execution_count": 13,
   "id": "1812cb0e",
   "metadata": {},
   "outputs": [
    {
     "data": {
      "text/plain": [
       "{'criterion': <hyperopt.pyll.base.Apply at 0x7fc15898aa60>,\n",
       " 'max_depth': <hyperopt.pyll.base.Apply at 0x7fc15898ac10>,\n",
       " 'max_features': <hyperopt.pyll.base.Apply at 0x7fc15898a040>,\n",
       " 'min_samples_leaf': <hyperopt.pyll.base.Apply at 0x7fc158980880>,\n",
       " 'min_samples_split': <hyperopt.pyll.base.Apply at 0x7fc1589ee670>,\n",
       " 'n_estimators': <hyperopt.pyll.base.Apply at 0x7fc1597b78b0>}"
      ]
     },
     "execution_count": 13,
     "metadata": {},
     "output_type": "execute_result"
    }
   ],
   "source": [
    "space"
   ]
  },
  {
   "cell_type": "code",
   "execution_count": 14,
   "id": "68323492",
   "metadata": {},
   "outputs": [],
   "source": [
    "def objective(space):\n",
    "    model = RandomForestClassifier(criterion = space['criterion'], max_depth = space['max_depth'],\n",
    "                                 max_features = space['max_features'],\n",
    "                                 min_samples_leaf = space['min_samples_leaf'],\n",
    "                                 min_samples_split = space['min_samples_split'],\n",
    "                                 n_estimators = space['n_estimators'], \n",
    "                                 )\n",
    "    \n",
    "    accuracy = cross_val_score(model, X_train, y_train, cv = 5).mean()\n",
    "\n",
    "    # We aim to maximize accuracy, therefore we return it as a negative value\n",
    "    return {'loss': -accuracy, 'status': STATUS_OK }\n",
    "\n",
    "#here objective is the main function here, under which the whole logic is written"
   ]
  },
  {
   "cell_type": "code",
   "execution_count": 15,
   "id": "c9b81ddf",
   "metadata": {},
   "outputs": [
    {
     "name": "stdout",
     "output_type": "stream",
     "text": [
      "100%|██████████| 80/80 [05:51<00:00,  4.39s/trial, best loss: -0.768732506997201] \n"
     ]
    },
    {
     "data": {
      "text/plain": [
       "{'criterion': 1,\n",
       " 'max_depth': 1005.0,\n",
       " 'max_features': 2,\n",
       " 'min_samples_leaf': 0.06669569446324496,\n",
       " 'min_samples_split': 0.03601208172315053,\n",
       " 'n_estimators': 5}"
      ]
     },
     "execution_count": 15,
     "metadata": {},
     "output_type": "execute_result"
    }
   ],
   "source": [
    "from sklearn.model_selection import cross_val_score\n",
    "trials = Trials()\n",
    "best = fmin(fn= objective,\n",
    "            space= space,\n",
    "            algo= tpe.suggest, # algo suggest the best way to do the work, (best algorithm)\n",
    "            max_evals = 80,\n",
    "            trials= trials)\n",
    "best\n",
    "\n",
    "#here trail refer to the finding the best model by doing experiments"
   ]
  },
  {
   "cell_type": "code",
   "execution_count": 16,
   "id": "8d942a60",
   "metadata": {},
   "outputs": [
    {
     "name": "stdout",
     "output_type": "stream",
     "text": [
      "gini\n",
      "log2\n",
      "1300\n"
     ]
    }
   ],
   "source": [
    "#see above result, here we get the array index no of the value , so we use map here , so we get the value \n",
    "\n",
    "crit = {0: 'entropy', 1: 'gini'}\n",
    "feat = {0: 'auto', 1: 'sqrt', 2: 'log2', 3: None}\n",
    "est = {0: 10, 1: 50, 2: 300, 3: 750, 4: 1200,5:1300,6:1500}\n",
    "\n",
    "\n",
    "print(crit[best['criterion']])\n",
    "print(feat[best['max_features']])\n",
    "print(est[best['n_estimators']])"
   ]
  },
  {
   "cell_type": "code",
   "execution_count": 17,
   "id": "6478bfa6",
   "metadata": {},
   "outputs": [
    {
     "data": {
      "text/plain": [
       "0.06669569446324496"
      ]
     },
     "execution_count": 17,
     "metadata": {},
     "output_type": "execute_result"
    }
   ],
   "source": [
    "best['min_samples_leaf']\n"
   ]
  },
  {
   "cell_type": "code",
   "execution_count": 18,
   "id": "e14e4cc7",
   "metadata": {},
   "outputs": [
    {
     "name": "stdout",
     "output_type": "stream",
     "text": [
      "[[98  9]\n",
      " [21 26]]\n",
      "0.8051948051948052\n",
      "              precision    recall  f1-score   support\n",
      "\n",
      "           0       0.82      0.92      0.87       107\n",
      "           1       0.74      0.55      0.63        47\n",
      "\n",
      "    accuracy                           0.81       154\n",
      "   macro avg       0.78      0.73      0.75       154\n",
      "weighted avg       0.80      0.81      0.80       154\n",
      "\n"
     ]
    }
   ],
   "source": [
    "trainedforest = RandomForestClassifier(criterion = crit[best['criterion']], max_depth = best['max_depth'], \n",
    "                                       max_features = feat[best['max_features']], \n",
    "                                       min_samples_leaf = best['min_samples_leaf'], \n",
    "                                       min_samples_split = best['min_samples_split'], \n",
    "                                       n_estimators = est[best['n_estimators']]).fit(X_train,y_train)\n",
    "predictionforest = trainedforest.predict(X_test)\n",
    "print(confusion_matrix(y_test,predictionforest))\n",
    "print(accuracy_score(y_test,predictionforest))\n",
    "print(classification_report(y_test,predictionforest))\n",
    "acc5 = accuracy_score(y_test,predictionforest)"
   ]
  },
  {
   "cell_type": "code",
   "execution_count": null,
   "id": "d2686399",
   "metadata": {},
   "outputs": [],
   "source": []
  },
  {
   "cell_type": "code",
   "execution_count": null,
   "id": "2b915d11",
   "metadata": {},
   "outputs": [],
   "source": []
  },
  {
   "cell_type": "code",
   "execution_count": null,
   "id": "ee74342b",
   "metadata": {},
   "outputs": [],
   "source": []
  },
  {
   "cell_type": "code",
   "execution_count": null,
   "id": "def5abd5",
   "metadata": {},
   "outputs": [],
   "source": []
  },
  {
   "cell_type": "code",
   "execution_count": null,
   "id": "8a25c5b2",
   "metadata": {},
   "outputs": [],
   "source": []
  },
  {
   "cell_type": "code",
   "execution_count": null,
   "id": "ee33bc9d",
   "metadata": {},
   "outputs": [],
   "source": []
  },
  {
   "cell_type": "markdown",
   "id": "29b551b4",
   "metadata": {},
   "source": [
    "Genetic Algorithms\n",
    "Genetic Algorithms tries to apply natural selection mechanisms to Machine Learning contexts.\n",
    "\n",
    "Let's immagine we create a population of N Machine Learning models with some predifined Hyperparameters.\n",
    "We can then calculate the accuracy of each model and decide to keep just half of the models (the ones that \n",
    "performs best). We can now generate some offsprings having similar Hyperparameters to the ones of the best \n",
    "models so that go get again a population of N models. At this point we can again caltulate the accuracy of \n",
    "each model and repeate the cycle for a defined number of generations. In this way, just the best models will \n",
    "survive at the end of the process.\n",
    "\n"
   ]
  },
  {
   "cell_type": "code",
   "execution_count": null,
   "id": "7c1a6308",
   "metadata": {},
   "outputs": [],
   "source": []
  },
  {
   "cell_type": "code",
   "execution_count": 19,
   "id": "db01b3bb",
   "metadata": {},
   "outputs": [
    {
     "name": "stdout",
     "output_type": "stream",
     "text": [
      "{'n_estimators': [200, 400, 600, 800, 1000, 1200, 1400, 1600, 1800, 2000], 'max_features': ['auto', 'sqrt', 'log2'], 'max_depth': [10, 120, 230, 340, 450, 560, 670, 780, 890, 1000], 'min_samples_split': [2, 5, 10, 14], 'min_samples_leaf': [1, 2, 4, 6, 8], 'criterion': ['entropy', 'gini']}\n"
     ]
    }
   ],
   "source": [
    "import numpy as np\n",
    "from sklearn.model_selection import RandomizedSearchCV\n",
    "# Number of trees in random forest\n",
    "n_estimators = [int(x) for x in np.linspace(start = 200, stop = 2000, num = 10)]\n",
    "# Number of features to consider at every split\n",
    "max_features = ['auto', 'sqrt','log2']\n",
    "# Maximum number of levels in tree\n",
    "max_depth = [int(x) for x in np.linspace(10, 1000,10)]\n",
    "# Minimum number of samples required to split a node\n",
    "min_samples_split = [2, 5, 10,14]\n",
    "# Minimum number of samples required at each leaf node\n",
    "min_samples_leaf = [1, 2, 4,6,8]\n",
    "# Create the random grid\n",
    "param = {'n_estimators': n_estimators,\n",
    "               'max_features': max_features,\n",
    "               'max_depth': max_depth,\n",
    "               'min_samples_split': min_samples_split,\n",
    "               'min_samples_leaf': min_samples_leaf,\n",
    "              'criterion':['entropy','gini']}\n",
    "print(param)"
   ]
  },
  {
   "cell_type": "code",
   "execution_count": 20,
   "id": "1caa0c10",
   "metadata": {},
   "outputs": [
    {
     "data": {
      "application/vnd.jupyter.widget-view+json": {
       "model_id": "",
       "version_major": 2,
       "version_minor": 0
      },
      "text/plain": [
       "Optimization Progress:   0%|          | 0/84 [00:00<?, ?pipeline/s]"
      ]
     },
     "metadata": {},
     "output_type": "display_data"
    },
    {
     "name": "stdout",
     "output_type": "stream",
     "text": [
      "\n",
      "Generation 1 - Current best internal CV score: 0.7557613954672778\n",
      "\n",
      "Generation 2 - Current best internal CV score: 0.7605996944232238\n",
      "\n",
      "Generation 3 - Current best internal CV score: 0.7605996944232238\n",
      "\n",
      "Generation 4 - Current best internal CV score: 0.7670825906120023\n",
      "\n",
      "Generation 5 - Current best internal CV score: 0.7670825906120023\n",
      "\n",
      "Best pipeline: RandomForestClassifier(RandomForestClassifier(CombineDFs(CombineDFs(input_matrix, input_matrix), input_matrix), criterion=gini, max_depth=560, max_features=log2, min_samples_leaf=8, min_samples_split=2, n_estimators=400), criterion=gini, max_depth=780, max_features=auto, min_samples_leaf=4, min_samples_split=10, n_estimators=200)\n"
     ]
    },
    {
     "data": {
      "text/plain": [
       "TPOTClassifier(config_dict={'sklearn.ensemble.RandomForestClassifier': {'criterion': ['entropy',\n",
       "                                                                                      'gini'],\n",
       "                                                                        'max_depth': [10,\n",
       "                                                                                      120,\n",
       "                                                                                      230,\n",
       "                                                                                      340,\n",
       "                                                                                      450,\n",
       "                                                                                      560,\n",
       "                                                                                      670,\n",
       "                                                                                      780,\n",
       "                                                                                      890,\n",
       "                                                                                      1000],\n",
       "                                                                        'max_features': ['auto',\n",
       "                                                                                         'sqrt',\n",
       "                                                                                         'log2'],\n",
       "                                                                        'min_samples_leaf': [1,\n",
       "                                                                                             2,\n",
       "                                                                                             4,\n",
       "                                                                                             6,\n",
       "                                                                                             8],\n",
       "                                                                        'min_samples_split': [2,\n",
       "                                                                                              5,\n",
       "                                                                                              10,\n",
       "                                                                                              14],\n",
       "                                                                        'n_estimators': [200,\n",
       "                                                                                         400,\n",
       "                                                                                         600,\n",
       "                                                                                         800,\n",
       "                                                                                         1000,\n",
       "                                                                                         1200,\n",
       "                                                                                         1400,\n",
       "                                                                                         1600,\n",
       "                                                                                         1800,\n",
       "                                                                                         2000]}},\n",
       "               cv=4, early_stop=12, generations=5, offspring_size=12,\n",
       "               population_size=24, scoring='accuracy', verbosity=2)"
      ]
     },
     "execution_count": 20,
     "metadata": {},
     "output_type": "execute_result"
    }
   ],
   "source": [
    "from tpot import TPOTClassifier\n",
    "\n",
    "#here generation man number of iterations to run pipeline process (normally people  use around 20 to 30 as value)\n",
    "#population size mean how mny model we will design\n",
    "#offspring_size mean no. of new model we will design from population size\n",
    "#config_dict path of the model \n",
    "tpot_classifier = TPOTClassifier(generations= 5, population_size= 24, offspring_size= 12,\n",
    "                                 verbosity= 2, early_stop= 12,\n",
    "                                 config_dict={'sklearn.ensemble.RandomForestClassifier': param}, \n",
    "                                 cv = 4, scoring = 'accuracy')\n",
    "tpot_classifier.fit(X_train,y_train)\n"
   ]
  },
  {
   "cell_type": "code",
   "execution_count": 21,
   "id": "af970987",
   "metadata": {},
   "outputs": [
    {
     "name": "stdout",
     "output_type": "stream",
     "text": [
      "0.8441558441558441\n"
     ]
    }
   ],
   "source": [
    "accuracy = tpot_classifier.score(X_test, y_test)\n",
    "print(accuracy)"
   ]
  },
  {
   "cell_type": "code",
   "execution_count": null,
   "id": "41a90aac",
   "metadata": {},
   "outputs": [],
   "source": []
  },
  {
   "cell_type": "markdown",
   "id": "9e0e63c7",
   "metadata": {},
   "source": [
    "Optuna"
   ]
  },
  {
   "cell_type": "markdown",
   "id": "06609a4d",
   "metadata": {},
   "source": [
    "\n",
    "Optimize hyperparameters of the model using Optuna\n",
    "The hyperparameters of the above algorithm are n_estimators and max_depth for which we can try different\n",
    "values to see if the model accuracy can be improved. The objective function is modified to accept a trial \n",
    "object. This trial has several methods for sampling hyperparameters. We create a study to run the hyperparameter\n",
    "optimization and finally read the best hyperparameters."
   ]
  },
  {
   "cell_type": "code",
   "execution_count": 22,
   "id": "bb64c5dd",
   "metadata": {},
   "outputs": [],
   "source": [
    "import optuna\n",
    "import sklearn.svm\n",
    "def objective(trial):\n",
    "\n",
    "    classifier = trial.suggest_categorical('classifier', ['RandomForest', 'SVC'])\n",
    "    \n",
    "    if classifier == 'RandomForest':\n",
    "        n_estimators = trial.suggest_int('n_estimators', 200, 2000,10)\n",
    "        max_depth = int(trial.suggest_float('max_depth', 10, 100, log=True))\n",
    "\n",
    "        clf = sklearn.ensemble.RandomForestClassifier(\n",
    "            n_estimators=n_estimators, max_depth=max_depth)\n",
    "    else:\n",
    "        c = trial.suggest_float('svc_c', 1e-10, 1e10, log=True)\n",
    "        \n",
    "        clf = sklearn.svm.SVC(C=c, gamma='auto')\n",
    "\n",
    "    return sklearn.model_selection.cross_val_score(\n",
    "        clf,X_train,y_train, n_jobs=-1, cv=3).mean()\n"
   ]
  },
  {
   "cell_type": "code",
   "execution_count": 23,
   "id": "9d08942e",
   "metadata": {},
   "outputs": [
    {
     "name": "stderr",
     "output_type": "stream",
     "text": [
      "\u001b[32m[I 2023-02-25 16:08:35,429]\u001b[0m A new study created in memory with name: no-name-a6855e3b-ccbc-4aca-a8ee-be830f9950c9\u001b[0m\n",
      "\u001b[32m[I 2023-02-25 16:08:37,137]\u001b[0m Trial 0 finished with value: 0.640068547744301 and parameters: {'classifier': 'SVC', 'svc_c': 1359090.707509039}. Best is trial 0 with value: 0.640068547744301.\u001b[0m\n",
      "\u001b[32m[I 2023-02-25 16:08:38,379]\u001b[0m Trial 1 finished with value: 0.744285031085605 and parameters: {'classifier': 'RandomForest', 'n_estimators': 350, 'max_depth': 42.28326223396058}. Best is trial 1 with value: 0.744285031085605.\u001b[0m\n",
      "\u001b[32m[I 2023-02-25 16:08:38,885]\u001b[0m Trial 2 finished with value: 0.640068547744301 and parameters: {'classifier': 'SVC', 'svc_c': 5.06835873417137e-05}. Best is trial 1 with value: 0.744285031085605.\u001b[0m\n",
      "\u001b[32m[I 2023-02-25 16:08:39,665]\u001b[0m Trial 3 finished with value: 0.7459190180137095 and parameters: {'classifier': 'RandomForest', 'n_estimators': 550, 'max_depth': 37.99968616696458}. Best is trial 3 with value: 0.7459190180137095.\u001b[0m\n",
      "\u001b[32m[I 2023-02-25 16:08:41,739]\u001b[0m Trial 4 finished with value: 0.7508130081300813 and parameters: {'classifier': 'RandomForest', 'n_estimators': 1370, 'max_depth': 11.203871857698148}. Best is trial 4 with value: 0.7508130081300813.\u001b[0m\n",
      "\u001b[32m[I 2023-02-25 16:08:42,171]\u001b[0m Trial 5 finished with value: 0.7524310537223019 and parameters: {'classifier': 'RandomForest', 'n_estimators': 280, 'max_depth': 28.264156309168257}. Best is trial 5 with value: 0.7524310537223019.\u001b[0m\n",
      "\u001b[32m[I 2023-02-25 16:08:42,205]\u001b[0m Trial 6 finished with value: 0.640068547744301 and parameters: {'classifier': 'SVC', 'svc_c': 0.0032818504433285538}. Best is trial 5 with value: 0.7524310537223019.\u001b[0m\n",
      "\u001b[32m[I 2023-02-25 16:08:45,200]\u001b[0m Trial 7 finished with value: 0.75242308305436 and parameters: {'classifier': 'RandomForest', 'n_estimators': 1910, 'max_depth': 92.14381828383682}. Best is trial 5 with value: 0.7524310537223019.\u001b[0m\n",
      "\u001b[32m[I 2023-02-25 16:08:45,231]\u001b[0m Trial 8 finished with value: 0.640068547744301 and parameters: {'classifier': 'SVC', 'svc_c': 0.6388084682935533}. Best is trial 5 with value: 0.7524310537223019.\u001b[0m\n",
      "\u001b[32m[I 2023-02-25 16:08:45,254]\u001b[0m Trial 9 finished with value: 0.640068547744301 and parameters: {'classifier': 'SVC', 'svc_c': 2.3203429294010304e-10}. Best is trial 5 with value: 0.7524310537223019.\u001b[0m\n",
      "\u001b[32m[I 2023-02-25 16:08:46,900]\u001b[0m Trial 10 finished with value: 0.7459269886816515 and parameters: {'classifier': 'RandomForest', 'n_estimators': 980, 'max_depth': 18.18515670518509}. Best is trial 5 with value: 0.7524310537223019.\u001b[0m\n",
      "\u001b[32m[I 2023-02-25 16:08:50,115]\u001b[0m Trial 11 finished with value: 0.7524390243902439 and parameters: {'classifier': 'RandomForest', 'n_estimators': 2000, 'max_depth': 99.77551493500563}. Best is trial 11 with value: 0.7524390243902439.\u001b[0m\n",
      "\u001b[32m[I 2023-02-25 16:08:53,056]\u001b[0m Trial 12 finished with value: 0.7508130081300813 and parameters: {'classifier': 'RandomForest', 'n_estimators': 1950, 'max_depth': 77.08373345556541}. Best is trial 11 with value: 0.7524390243902439.\u001b[0m\n",
      "\u001b[32m[I 2023-02-25 16:08:54,866]\u001b[0m Trial 13 finished with value: 0.7491790212019768 and parameters: {'classifier': 'RandomForest', 'n_estimators': 1270, 'max_depth': 25.48286303973719}. Best is trial 11 with value: 0.7524390243902439.\u001b[0m\n",
      "\u001b[32m[I 2023-02-25 16:08:56,182]\u001b[0m Trial 14 finished with value: 0.7491869918699187 and parameters: {'classifier': 'RandomForest', 'n_estimators': 840, 'max_depth': 56.70256074226147}. Best is trial 11 with value: 0.7524390243902439.\u001b[0m\n",
      "\u001b[32m[I 2023-02-25 16:08:58,854]\u001b[0m Trial 15 finished with value: 0.7475370636059302 and parameters: {'classifier': 'RandomForest', 'n_estimators': 1580, 'max_depth': 99.2228334799271}. Best is trial 11 with value: 0.7524390243902439.\u001b[0m\n",
      "\u001b[32m[I 2023-02-25 16:08:59,254]\u001b[0m Trial 16 finished with value: 0.7491790212019768 and parameters: {'classifier': 'RandomForest', 'n_estimators': 230, 'max_depth': 54.41164750657879}. Best is trial 11 with value: 0.7524390243902439.\u001b[0m\n",
      "\u001b[32m[I 2023-02-25 16:09:00,388]\u001b[0m Trial 17 finished with value: 0.75242308305436 and parameters: {'classifier': 'RandomForest', 'n_estimators': 670, 'max_depth': 28.16798870041224}. Best is trial 11 with value: 0.7524390243902439.\u001b[0m\n",
      "\u001b[32m[I 2023-02-25 16:09:02,833]\u001b[0m Trial 18 finished with value: 0.7556910569105691 and parameters: {'classifier': 'RandomForest', 'n_estimators': 1580, 'max_depth': 60.36999047014062}. Best is trial 18 with value: 0.7556910569105691.\u001b[0m\n",
      "\u001b[32m[I 2023-02-25 16:09:05,645]\u001b[0m Trial 19 finished with value: 0.7491790212019768 and parameters: {'classifier': 'RandomForest', 'n_estimators': 1670, 'max_depth': 68.60892001806492}. Best is trial 18 with value: 0.7556910569105691.\u001b[0m\n",
      "\u001b[32m[I 2023-02-25 16:09:08,381]\u001b[0m Trial 20 finished with value: 0.7524310537223019 and parameters: {'classifier': 'RandomForest', 'n_estimators': 1710, 'max_depth': 68.5146540540381}. Best is trial 18 with value: 0.7556910569105691.\u001b[0m\n",
      "\u001b[32m[I 2023-02-25 16:09:10,661]\u001b[0m Trial 21 finished with value: 0.7540650406504065 and parameters: {'classifier': 'RandomForest', 'n_estimators': 1490, 'max_depth': 49.28152787815395}. Best is trial 18 with value: 0.7556910569105691.\u001b[0m\n",
      "\u001b[32m[I 2023-02-25 16:09:12,966]\u001b[0m Trial 22 finished with value: 0.744293001753547 and parameters: {'classifier': 'RandomForest', 'n_estimators': 1400, 'max_depth': 51.698525552967695}. Best is trial 18 with value: 0.7556910569105691.\u001b[0m\n",
      "\u001b[32m[I 2023-02-25 16:09:14,788]\u001b[0m Trial 23 finished with value: 0.7459110473457676 and parameters: {'classifier': 'RandomForest', 'n_estimators': 1170, 'max_depth': 80.7530954435717}. Best is trial 18 with value: 0.7556910569105691.\u001b[0m\n",
      "\u001b[32m[I 2023-02-25 16:09:17,200]\u001b[0m Trial 24 finished with value: 0.7475450342738722 and parameters: {'classifier': 'RandomForest', 'n_estimators': 1530, 'max_depth': 66.3830635473369}. Best is trial 18 with value: 0.7556910569105691.\u001b[0m\n",
      "\u001b[32m[I 2023-02-25 16:09:20,010]\u001b[0m Trial 25 finished with value: 0.75242308305436 and parameters: {'classifier': 'RandomForest', 'n_estimators': 1810, 'max_depth': 95.91579090700615}. Best is trial 18 with value: 0.7556910569105691.\u001b[0m\n",
      "\u001b[32m[I 2023-02-25 16:09:20,044]\u001b[0m Trial 26 finished with value: 0.640068547744301 and parameters: {'classifier': 'SVC', 'svc_c': 229679931.15110758}. Best is trial 18 with value: 0.7556910569105691.\u001b[0m\n",
      "\u001b[32m[I 2023-02-25 16:09:22,255]\u001b[0m Trial 27 finished with value: 0.7491710505340348 and parameters: {'classifier': 'RandomForest', 'n_estimators': 1510, 'max_depth': 44.85467530898787}. Best is trial 18 with value: 0.7556910569105691.\u001b[0m\n",
      "\u001b[32m[I 2023-02-25 16:09:24,917]\u001b[0m Trial 28 finished with value: 0.7540570699824646 and parameters: {'classifier': 'RandomForest', 'n_estimators': 1770, 'max_depth': 60.35204747631315}. Best is trial 18 with value: 0.7556910569105691.\u001b[0m\n",
      "\u001b[32m[I 2023-02-25 16:09:24,948]\u001b[0m Trial 29 finished with value: 0.640068547744301 and parameters: {'classifier': 'SVC', 'svc_c': 7015.4621408831645}. Best is trial 18 with value: 0.7556910569105691.\u001b[0m\n",
      "\u001b[32m[I 2023-02-25 16:09:27,715]\u001b[0m Trial 30 finished with value: 0.7491790212019768 and parameters: {'classifier': 'RandomForest', 'n_estimators': 1740, 'max_depth': 56.89318524428576}. Best is trial 18 with value: 0.7556910569105691.\u001b[0m\n",
      "\u001b[32m[I 2023-02-25 16:09:30,966]\u001b[0m Trial 31 finished with value: 0.7524310537223019 and parameters: {'classifier': 'RandomForest', 'n_estimators': 1990, 'max_depth': 78.26538564611876}. Best is trial 18 with value: 0.7556910569105691.\u001b[0m\n",
      "\u001b[32m[I 2023-02-25 16:09:33,997]\u001b[0m Trial 32 finished with value: 0.7491790212019768 and parameters: {'classifier': 'RandomForest', 'n_estimators': 1830, 'max_depth': 62.51055634789802}. Best is trial 18 with value: 0.7556910569105691.\u001b[0m\n",
      "\u001b[32m[I 2023-02-25 16:09:36,528]\u001b[0m Trial 33 finished with value: 0.7508130081300813 and parameters: {'classifier': 'RandomForest', 'n_estimators': 1640, 'max_depth': 47.758299439231514}. Best is trial 18 with value: 0.7556910569105691.\u001b[0m\n",
      "\u001b[32m[I 2023-02-25 16:09:38,824]\u001b[0m Trial 34 finished with value: 0.7524390243902439 and parameters: {'classifier': 'RandomForest', 'n_estimators': 1460, 'max_depth': 37.31761460188327}. Best is trial 18 with value: 0.7556910569105691.\u001b[0m\n"
     ]
    },
    {
     "name": "stderr",
     "output_type": "stream",
     "text": [
      "\u001b[32m[I 2023-02-25 16:09:41,594]\u001b[0m Trial 35 finished with value: 0.7491710505340348 and parameters: {'classifier': 'RandomForest', 'n_estimators': 1830, 'max_depth': 82.46773087129934}. Best is trial 18 with value: 0.7556910569105691.\u001b[0m\n",
      "\u001b[32m[I 2023-02-25 16:09:43,556]\u001b[0m Trial 36 finished with value: 0.7589430894308943 and parameters: {'classifier': 'RandomForest', 'n_estimators': 1250, 'max_depth': 62.33510611174954}. Best is trial 36 with value: 0.7589430894308943.\u001b[0m\n",
      "\u001b[32m[I 2023-02-25 16:09:43,600]\u001b[0m Trial 37 finished with value: 0.640068547744301 and parameters: {'classifier': 'SVC', 'svc_c': 3210439762.7476273}. Best is trial 36 with value: 0.7589430894308943.\u001b[0m\n",
      "\u001b[32m[I 2023-02-25 16:09:45,792]\u001b[0m Trial 38 finished with value: 0.7524310537223019 and parameters: {'classifier': 'RandomForest', 'n_estimators': 1260, 'max_depth': 47.247283437749374}. Best is trial 36 with value: 0.7589430894308943.\u001b[0m\n",
      "\u001b[32m[I 2023-02-25 16:09:47,519]\u001b[0m Trial 39 finished with value: 0.7508130081300813 and parameters: {'classifier': 'RandomForest', 'n_estimators': 1020, 'max_depth': 41.19340907578129}. Best is trial 36 with value: 0.7589430894308943.\u001b[0m\n",
      "\u001b[32m[I 2023-02-25 16:09:47,567]\u001b[0m Trial 40 finished with value: 0.640068547744301 and parameters: {'classifier': 'SVC', 'svc_c': 1387.3216605590746}. Best is trial 36 with value: 0.7589430894308943.\u001b[0m\n",
      "\u001b[32m[I 2023-02-25 16:09:49,969]\u001b[0m Trial 41 finished with value: 0.7491869918699187 and parameters: {'classifier': 'RandomForest', 'n_estimators': 1380, 'max_depth': 63.66532213776586}. Best is trial 36 with value: 0.7589430894308943.\u001b[0m\n",
      "\u001b[32m[I 2023-02-25 16:09:52,710]\u001b[0m Trial 42 finished with value: 0.7524390243902439 and parameters: {'classifier': 'RandomForest', 'n_estimators': 1610, 'max_depth': 56.941855596942204}. Best is trial 36 with value: 0.7589430894308943.\u001b[0m\n",
      "\u001b[32m[I 2023-02-25 16:09:54,746]\u001b[0m Trial 43 finished with value: 0.7459110473457676 and parameters: {'classifier': 'RandomForest', 'n_estimators': 1270, 'max_depth': 72.46672196470462}. Best is trial 36 with value: 0.7589430894308943.\u001b[0m\n",
      "\u001b[32m[I 2023-02-25 16:09:57,772]\u001b[0m Trial 44 finished with value: 0.7491790212019768 and parameters: {'classifier': 'RandomForest', 'n_estimators': 1770, 'max_depth': 88.09364317790279}. Best is trial 36 with value: 0.7589430894308943.\u001b[0m\n",
      "\u001b[32m[I 2023-02-25 16:10:00,859]\u001b[0m Trial 45 finished with value: 0.7459269886816515 and parameters: {'classifier': 'RandomForest', 'n_estimators': 1900, 'max_depth': 61.9112952790857}. Best is trial 36 with value: 0.7589430894308943.\u001b[0m\n",
      "\u001b[32m[I 2023-02-25 16:10:02,729]\u001b[0m Trial 46 finished with value: 0.7507970667941973 and parameters: {'classifier': 'RandomForest', 'n_estimators': 1140, 'max_depth': 86.04012934113217}. Best is trial 36 with value: 0.7589430894308943.\u001b[0m\n",
      "\u001b[32m[I 2023-02-25 16:10:05,218]\u001b[0m Trial 47 finished with value: 0.7524310537223019 and parameters: {'classifier': 'RandomForest', 'n_estimators': 1510, 'max_depth': 72.59837987235883}. Best is trial 36 with value: 0.7589430894308943.\u001b[0m\n",
      "\u001b[32m[I 2023-02-25 16:10:05,250]\u001b[0m Trial 48 finished with value: 0.640068547744301 and parameters: {'classifier': 'SVC', 'svc_c': 1.982735639543033e-09}. Best is trial 36 with value: 0.7589430894308943.\u001b[0m\n",
      "\u001b[32m[I 2023-02-25 16:10:08,366]\u001b[0m Trial 49 finished with value: 0.7524310537223019 and parameters: {'classifier': 'RandomForest', 'n_estimators': 1900, 'max_depth': 36.1381948507987}. Best is trial 36 with value: 0.7589430894308943.\u001b[0m\n",
      "\u001b[32m[I 2023-02-25 16:10:11,504]\u001b[0m Trial 50 finished with value: 0.7540650406504065 and parameters: {'classifier': 'RandomForest', 'n_estimators': 1990, 'max_depth': 48.561975591668684}. Best is trial 36 with value: 0.7589430894308943.\u001b[0m\n",
      "\u001b[32m[I 2023-02-25 16:10:14,717]\u001b[0m Trial 51 finished with value: 0.7524310537223019 and parameters: {'classifier': 'RandomForest', 'n_estimators': 2000, 'max_depth': 48.04097050017804}. Best is trial 36 with value: 0.7589430894308943.\u001b[0m\n",
      "\u001b[32m[I 2023-02-25 16:10:18,022]\u001b[0m Trial 52 finished with value: 0.7524310537223019 and parameters: {'classifier': 'RandomForest', 'n_estimators': 1900, 'max_depth': 52.439457242278685}. Best is trial 36 with value: 0.7589430894308943.\u001b[0m\n",
      "\u001b[32m[I 2023-02-25 16:10:20,861]\u001b[0m Trial 53 finished with value: 0.7475609756097561 and parameters: {'classifier': 'RandomForest', 'n_estimators': 1700, 'max_depth': 40.5275653784996}. Best is trial 36 with value: 0.7589430894308943.\u001b[0m\n",
      "\u001b[32m[I 2023-02-25 16:10:24,375]\u001b[0m Trial 54 finished with value: 0.7475689462776981 and parameters: {'classifier': 'RandomForest', 'n_estimators': 1840, 'max_depth': 59.60581443091547}. Best is trial 36 with value: 0.7589430894308943.\u001b[0m\n",
      "\u001b[32m[I 2023-02-25 16:10:26,719]\u001b[0m Trial 55 finished with value: 0.7507890961262554 and parameters: {'classifier': 'RandomForest', 'n_estimators': 1340, 'max_depth': 52.23234639224802}. Best is trial 36 with value: 0.7589430894308943.\u001b[0m\n",
      "\u001b[32m[I 2023-02-25 16:10:27,398]\u001b[0m Trial 56 finished with value: 0.7410329985652798 and parameters: {'classifier': 'RandomForest', 'n_estimators': 400, 'max_depth': 98.95012259103326}. Best is trial 36 with value: 0.7589430894308943.\u001b[0m\n",
      "\u001b[32m[I 2023-02-25 16:10:30,265]\u001b[0m Trial 57 finished with value: 0.7475450342738722 and parameters: {'classifier': 'RandomForest', 'n_estimators': 1600, 'max_depth': 74.2506273307943}. Best is trial 36 with value: 0.7589430894308943.\u001b[0m\n",
      "\u001b[32m[I 2023-02-25 16:10:34,461]\u001b[0m Trial 58 finished with value: 0.7540809819862905 and parameters: {'classifier': 'RandomForest', 'n_estimators': 1950, 'max_depth': 65.57900561789903}. Best is trial 36 with value: 0.7589430894308943.\u001b[0m\n",
      "\u001b[32m[I 2023-02-25 16:10:37,134]\u001b[0m Trial 59 finished with value: 0.7556830862426271 and parameters: {'classifier': 'RandomForest', 'n_estimators': 1440, 'max_depth': 65.23976010355773}. Best is trial 36 with value: 0.7589430894308943.\u001b[0m\n",
      "\u001b[32m[I 2023-02-25 16:10:37,161]\u001b[0m Trial 60 finished with value: 0.640068547744301 and parameters: {'classifier': 'SVC', 'svc_c': 1.6001654716285875e-06}. Best is trial 36 with value: 0.7589430894308943.\u001b[0m\n",
      "\u001b[32m[I 2023-02-25 16:10:39,571]\u001b[0m Trial 61 finished with value: 0.7524390243902439 and parameters: {'classifier': 'RandomForest', 'n_estimators': 1420, 'max_depth': 65.34418600997061}. Best is trial 36 with value: 0.7589430894308943.\u001b[0m\n",
      "\u001b[32m[I 2023-02-25 16:10:41,733]\u001b[0m Trial 62 finished with value: 0.7508050374621393 and parameters: {'classifier': 'RandomForest', 'n_estimators': 1340, 'max_depth': 57.61726460315665}. Best is trial 36 with value: 0.7589430894308943.\u001b[0m\n",
      "\u001b[32m[I 2023-02-25 16:10:44,365]\u001b[0m Trial 63 finished with value: 0.7540570699824646 and parameters: {'classifier': 'RandomForest', 'n_estimators': 1550, 'max_depth': 51.3302606030013}. Best is trial 36 with value: 0.7589430894308943.\u001b[0m\n",
      "\u001b[32m[I 2023-02-25 16:10:46,746]\u001b[0m Trial 64 finished with value: 0.7508050374621393 and parameters: {'classifier': 'RandomForest', 'n_estimators': 1470, 'max_depth': 70.23756737599088}. Best is trial 36 with value: 0.7589430894308943.\u001b[0m\n",
      "\u001b[32m[I 2023-02-25 16:10:48,795]\u001b[0m Trial 65 finished with value: 0.7508209787980232 and parameters: {'classifier': 'RandomForest', 'n_estimators': 1210, 'max_depth': 60.80501019792738}. Best is trial 36 with value: 0.7589430894308943.\u001b[0m\n",
      "\u001b[32m[I 2023-02-25 16:10:52,155]\u001b[0m Trial 66 finished with value: 0.7524310537223019 and parameters: {'classifier': 'RandomForest', 'n_estimators': 1670, 'max_depth': 66.94310819341943}. Best is trial 36 with value: 0.7589430894308943.\u001b[0m\n",
      "\u001b[32m[I 2023-02-25 16:10:54,299]\u001b[0m Trial 67 finished with value: 0.75242308305436 and parameters: {'classifier': 'RandomForest', 'n_estimators': 1050, 'max_depth': 54.40382294220311}. Best is trial 36 with value: 0.7589430894308943.\u001b[0m\n",
      "\u001b[32m[I 2023-02-25 16:10:57,272]\u001b[0m Trial 68 finished with value: 0.7508050374621393 and parameters: {'classifier': 'RandomForest', 'n_estimators': 1760, 'max_depth': 76.15646701155787}. Best is trial 36 with value: 0.7589430894308943.\u001b[0m\n",
      "\u001b[32m[I 2023-02-25 16:11:00,457]\u001b[0m Trial 69 finished with value: 0.7524390243902439 and parameters: {'classifier': 'RandomForest', 'n_estimators': 1970, 'max_depth': 45.06881410992404}. Best is trial 36 with value: 0.7589430894308943.\u001b[0m\n"
     ]
    },
    {
     "name": "stderr",
     "output_type": "stream",
     "text": [
      "\u001b[32m[I 2023-02-25 16:11:03,498]\u001b[0m Trial 70 finished with value: 0.7573091025027897 and parameters: {'classifier': 'RandomForest', 'n_estimators': 1900, 'max_depth': 59.50127859767636}. Best is trial 36 with value: 0.7589430894308943.\u001b[0m\n",
      "\u001b[32m[I 2023-02-25 16:11:06,855]\u001b[0m Trial 71 finished with value: 0.7573091025027897 and parameters: {'classifier': 'RandomForest', 'n_estimators': 1930, 'max_depth': 58.864926448251516}. Best is trial 36 with value: 0.7589430894308943.\u001b[0m\n",
      "\u001b[32m[I 2023-02-25 16:11:08,232]\u001b[0m Trial 72 finished with value: 0.7459110473457676 and parameters: {'classifier': 'RandomForest', 'n_estimators': 860, 'max_depth': 66.15599704316561}. Best is trial 36 with value: 0.7589430894308943.\u001b[0m\n",
      "\u001b[32m[I 2023-02-25 16:11:11,674]\u001b[0m Trial 73 finished with value: 0.7491710505340348 and parameters: {'classifier': 'RandomForest', 'n_estimators': 1880, 'max_depth': 56.851879826444105}. Best is trial 36 with value: 0.7589430894308943.\u001b[0m\n",
      "\u001b[32m[I 2023-02-25 16:11:14,803]\u001b[0m Trial 74 finished with value: 0.7491710505340348 and parameters: {'classifier': 'RandomForest', 'n_estimators': 1950, 'max_depth': 50.28420812039119}. Best is trial 36 with value: 0.7589430894308943.\u001b[0m\n",
      "\u001b[32m[I 2023-02-25 16:11:16,871]\u001b[0m Trial 75 finished with value: 0.7508130081300813 and parameters: {'classifier': 'RandomForest', 'n_estimators': 1300, 'max_depth': 69.37984199925825}. Best is trial 36 with value: 0.7589430894308943.\u001b[0m\n",
      "\u001b[32m[I 2023-02-25 16:11:19,190]\u001b[0m Trial 76 finished with value: 0.7475450342738722 and parameters: {'classifier': 'RandomForest', 'n_estimators': 1450, 'max_depth': 54.82487726217071}. Best is trial 36 with value: 0.7589430894308943.\u001b[0m\n",
      "\u001b[32m[I 2023-02-25 16:11:19,221]\u001b[0m Trial 77 finished with value: 0.640068547744301 and parameters: {'classifier': 'SVC', 'svc_c': 3.4927622788078443}. Best is trial 36 with value: 0.7589430894308943.\u001b[0m\n",
      "\u001b[32m[I 2023-02-25 16:11:22,246]\u001b[0m Trial 78 finished with value: 0.7491869918699187 and parameters: {'classifier': 'RandomForest', 'n_estimators': 1840, 'max_depth': 62.4944767479931}. Best is trial 36 with value: 0.7589430894308943.\u001b[0m\n",
      "\u001b[32m[I 2023-02-25 16:11:25,526]\u001b[0m Trial 79 finished with value: 0.7491710505340348 and parameters: {'classifier': 'RandomForest', 'n_estimators': 1950, 'max_depth': 81.21863983092584}. Best is trial 36 with value: 0.7589430894308943.\u001b[0m\n",
      "\u001b[32m[I 2023-02-25 16:11:28,560]\u001b[0m Trial 80 finished with value: 0.7524390243902439 and parameters: {'classifier': 'RandomForest', 'n_estimators': 1790, 'max_depth': 43.744380407814155}. Best is trial 36 with value: 0.7589430894308943.\u001b[0m\n",
      "\u001b[32m[I 2023-02-25 16:11:31,318]\u001b[0m Trial 81 finished with value: 0.7540490993145226 and parameters: {'classifier': 'RandomForest', 'n_estimators': 1720, 'max_depth': 59.102804833786415}. Best is trial 36 with value: 0.7589430894308943.\u001b[0m\n",
      "\u001b[32m[I 2023-02-25 16:11:34,088]\u001b[0m Trial 82 finished with value: 0.7507970667941973 and parameters: {'classifier': 'RandomForest', 'n_estimators': 1640, 'max_depth': 62.77580117000854}. Best is trial 36 with value: 0.7589430894308943.\u001b[0m\n",
      "\u001b[32m[I 2023-02-25 16:11:37,148]\u001b[0m Trial 83 finished with value: 0.7491630798660928 and parameters: {'classifier': 'RandomForest', 'n_estimators': 1870, 'max_depth': 48.450457387317826}. Best is trial 36 with value: 0.7589430894308943.\u001b[0m\n",
      "\u001b[32m[I 2023-02-25 16:11:39,641]\u001b[0m Trial 84 finished with value: 0.7524390243902439 and parameters: {'classifier': 'RandomForest', 'n_estimators': 1550, 'max_depth': 54.734567376774024}. Best is trial 36 with value: 0.7589430894308943.\u001b[0m\n",
      "\u001b[32m[I 2023-02-25 16:11:42,647]\u001b[0m Trial 85 finished with value: 0.7475530049418141 and parameters: {'classifier': 'RandomForest', 'n_estimators': 1940, 'max_depth': 68.65936223323504}. Best is trial 36 with value: 0.7589430894308943.\u001b[0m\n",
      "\u001b[32m[I 2023-02-25 16:11:45,769]\u001b[0m Trial 86 finished with value: 0.7524310537223019 and parameters: {'classifier': 'RandomForest', 'n_estimators': 2000, 'max_depth': 59.72467595227681}. Best is trial 36 with value: 0.7589430894308943.\u001b[0m\n",
      "\u001b[32m[I 2023-02-25 16:11:48,719]\u001b[0m Trial 87 finished with value: 0.7491710505340348 and parameters: {'classifier': 'RandomForest', 'n_estimators': 1800, 'max_depth': 64.32723933257827}. Best is trial 36 with value: 0.7589430894308943.\u001b[0m\n",
      "\u001b[32m[I 2023-02-25 16:11:48,752]\u001b[0m Trial 88 finished with value: 0.640068547744301 and parameters: {'classifier': 'SVC', 'svc_c': 1205240.0097099459}. Best is trial 36 with value: 0.7589430894308943.\u001b[0m\n",
      "\u001b[32m[I 2023-02-25 16:11:51,553]\u001b[0m Trial 89 finished with value: 0.7491630798660928 and parameters: {'classifier': 'RandomForest', 'n_estimators': 1730, 'max_depth': 73.93679902299186}. Best is trial 36 with value: 0.7589430894308943.\u001b[0m\n",
      "\u001b[32m[I 2023-02-25 16:11:53,658]\u001b[0m Trial 90 finished with value: 0.7540650406504065 and parameters: {'classifier': 'RandomForest', 'n_estimators': 1210, 'max_depth': 49.56686015612603}. Best is trial 36 with value: 0.7589430894308943.\u001b[0m\n",
      "\u001b[32m[I 2023-02-25 16:11:55,605]\u001b[0m Trial 91 finished with value: 0.7459190180137095 and parameters: {'classifier': 'RandomForest', 'n_estimators': 1190, 'max_depth': 50.79665548448297}. Best is trial 36 with value: 0.7589430894308943.\u001b[0m\n",
      "\u001b[32m[I 2023-02-25 16:11:57,349]\u001b[0m Trial 92 finished with value: 0.7491710505340348 and parameters: {'classifier': 'RandomForest', 'n_estimators': 940, 'max_depth': 54.80423483515826}. Best is trial 36 with value: 0.7589430894308943.\u001b[0m\n",
      "\u001b[32m[I 2023-02-25 16:11:59,547]\u001b[0m Trial 93 finished with value: 0.7556830862426271 and parameters: {'classifier': 'RandomForest', 'n_estimators': 1250, 'max_depth': 59.655829250580084}. Best is trial 36 with value: 0.7589430894308943.\u001b[0m\n",
      "\u001b[32m[I 2023-02-25 16:12:01,427]\u001b[0m Trial 94 finished with value: 0.7540650406504065 and parameters: {'classifier': 'RandomForest', 'n_estimators': 1140, 'max_depth': 46.596294795554215}. Best is trial 36 with value: 0.7589430894308943.\u001b[0m\n",
      "\u001b[32m[I 2023-02-25 16:12:03,502]\u001b[0m Trial 95 finished with value: 0.7491790212019768 and parameters: {'classifier': 'RandomForest', 'n_estimators': 1240, 'max_depth': 58.72486007919517}. Best is trial 36 with value: 0.7589430894308943.\u001b[0m\n",
      "\u001b[32m[I 2023-02-25 16:12:05,699]\u001b[0m Trial 96 finished with value: 0.7475450342738722 and parameters: {'classifier': 'RandomForest', 'n_estimators': 1300, 'max_depth': 49.82954658420903}. Best is trial 36 with value: 0.7589430894308943.\u001b[0m\n",
      "\u001b[32m[I 2023-02-25 16:12:07,490]\u001b[0m Trial 97 finished with value: 0.7491869918699187 and parameters: {'classifier': 'RandomForest', 'n_estimators': 1080, 'max_depth': 53.332837412311285}. Best is trial 36 with value: 0.7589430894308943.\u001b[0m\n",
      "\u001b[32m[I 2023-02-25 16:12:09,858]\u001b[0m Trial 98 finished with value: 0.7475530049418141 and parameters: {'classifier': 'RandomForest', 'n_estimators': 1390, 'max_depth': 65.31695334273508}. Best is trial 36 with value: 0.7589430894308943.\u001b[0m\n",
      "\u001b[32m[I 2023-02-25 16:12:12,109]\u001b[0m Trial 99 finished with value: 0.7475450342738722 and parameters: {'classifier': 'RandomForest', 'n_estimators': 1340, 'max_depth': 70.37982635923207}. Best is trial 36 with value: 0.7589430894308943.\u001b[0m\n"
     ]
    },
    {
     "name": "stdout",
     "output_type": "stream",
     "text": [
      "Accuracy: 0.7589430894308943\n",
      "Best hyperparameters: {'classifier': 'RandomForest', 'n_estimators': 1250, 'max_depth': 62.33510611174954}\n"
     ]
    }
   ],
   "source": [
    "#here create_study make a space where the best model is trained and finded by the algorithm\n",
    "study = optuna.create_study(direction='maximize')  #here we find accuracy so give parameter as maximize, \n",
    "#if we find loss then give parameter as minimize\n",
    "study.optimize(objective, n_trials=100)\n",
    "\n",
    "trial = study.best_trial\n",
    "\n",
    "print('Accuracy: {}'.format(trial.value))\n",
    "print(\"Best hyperparameters: {}\".format(trial.params))"
   ]
  },
  {
   "cell_type": "code",
   "execution_count": null,
   "id": "894c1690",
   "metadata": {},
   "outputs": [
    {
     "ename": "",
     "evalue": "",
     "output_type": "error",
     "traceback": [
      "\u001b[1;31mRunning cells with '/bin/python3' requires the ipykernel package.\n",
      "\u001b[1;31mRun the following command to install 'ipykernel' into the Python environment. \n",
      "\u001b[1;31mCommand: '/bin/python3 -m pip install ipykernel -U --user --force-reinstall'"
     ]
    }
   ],
   "source": [
    "trail"
   ]
  },
  {
   "cell_type": "code",
   "execution_count": null,
   "id": "2da485e7",
   "metadata": {},
   "outputs": [],
   "source": [
    "study.best_params\n"
   ]
  },
  {
   "cell_type": "code",
   "execution_count": null,
   "id": "f6bed8f3",
   "metadata": {},
   "outputs": [],
   "source": [
    "rf=RandomForestClassifier(n_estimators=330,max_depth=30)\n",
    "rf.fit(X_train,y_train)"
   ]
  },
  {
   "cell_type": "code",
   "execution_count": null,
   "id": "73a556dc",
   "metadata": {},
   "outputs": [],
   "source": [
    "y_pred=rf.predict(X_test)\n",
    "print(confusion_matrix(y_test,y_pred))\n",
    "print(accuracy_score(y_test,y_pred))\n",
    "print(classification_report(y_test,y_pred))"
   ]
  },
  {
   "cell_type": "code",
   "execution_count": null,
   "id": "e41e8e99",
   "metadata": {},
   "outputs": [],
   "source": []
  }
 ],
 "metadata": {
  "kernelspec": {
   "display_name": "Python 3",
   "language": "python",
   "name": "python3"
  },
  "language_info": {
   "codemirror_mode": {
    "name": "ipython",
    "version": 3
   },
   "file_extension": ".py",
   "mimetype": "text/x-python",
   "name": "python",
   "nbconvert_exporter": "python",
   "pygments_lexer": "ipython3",
   "version": "3.8.10"
  },
  "vscode": {
   "interpreter": {
    "hash": "916dbcbb3f70747c44a77c7bcd40155683ae19c65e1c03b4aa3499c5328201f1"
   }
  }
 },
 "nbformat": 4,
 "nbformat_minor": 5
}
